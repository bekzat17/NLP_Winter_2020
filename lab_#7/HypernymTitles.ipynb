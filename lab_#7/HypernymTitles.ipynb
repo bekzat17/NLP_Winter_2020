{
 "cells": [
  {
   "cell_type": "markdown",
   "metadata": {
    "colab_type": "text",
    "id": "hMo3kj3LC3rA"
   },
   "source": [
    "#### Lab 7 prepared by Bekzat Bakytbek\n",
    "#### Rouge Metrics"
   ]
  },
  {
   "cell_type": "code",
   "execution_count": 41,
   "metadata": {
    "colab": {},
    "colab_type": "code",
    "id": "obigo_n1C3rB",
    "outputId": "5a52f044-6ee2-4495-d030-b5253dbfd1db"
   },
   "outputs": [],
   "source": [
    "import pandas as pd\n",
    "from nltk.corpus import stopwords\n",
    "from nltk.corpus import wordnet as wn\n",
    "import numpy as np\n",
    "from fuzzywuzzy import fuzz\n",
    "import ipywidgets as widgets\n",
    "import pprint\n",
    "from ipywidgets import interact, interact_manual\n",
    "import re\n",
    "__PATH__ = \"./data.csv\""
   ]
  },
  {
   "cell_type": "code",
   "execution_count": 42,
   "metadata": {
    "colab": {},
    "colab_type": "code",
    "id": "4UWQysSWC3rG",
    "outputId": "48a9bae7-de24-44c9-b11d-215646ae514b"
   },
   "outputs": [],
   "source": [
    "#import nltk\n",
    "#nltk.download('stopwords')\n",
    "#nltk.download('wordnet')"
   ]
  },
  {
   "cell_type": "code",
   "execution_count": 43,
   "metadata": {
    "colab": {},
    "colab_type": "code",
    "id": "qg2mYAm3C3rI",
    "scrolled": true
   },
   "outputs": [
    {
     "data": {
      "text/html": [
       "<div>\n",
       "<style scoped>\n",
       "    .dataframe tbody tr th:only-of-type {\n",
       "        vertical-align: middle;\n",
       "    }\n",
       "\n",
       "    .dataframe tbody tr th {\n",
       "        vertical-align: top;\n",
       "    }\n",
       "\n",
       "    .dataframe thead th {\n",
       "        text-align: right;\n",
       "    }\n",
       "</style>\n",
       "<table border=\"1\" class=\"dataframe\">\n",
       "  <thead>\n",
       "    <tr style=\"text-align: right;\">\n",
       "      <th></th>\n",
       "      <th>id</th>\n",
       "      <th>updatedDate</th>\n",
       "      <th>publishedDate</th>\n",
       "      <th>title</th>\n",
       "      <th>summary</th>\n",
       "      <th>authors</th>\n",
       "      <th>category</th>\n",
       "      <th>metaData</th>\n",
       "      <th>downloadLink</th>\n",
       "      <th>filePath</th>\n",
       "    </tr>\n",
       "  </thead>\n",
       "  <tbody>\n",
       "    <tr>\n",
       "      <td>0</td>\n",
       "      <td>http://arxiv.org/abs/1407.6950v1</td>\n",
       "      <td>2014-07-24T16:56:39Z</td>\n",
       "      <td>2014-07-24T16:56:39Z</td>\n",
       "      <td>How,whenAndHowMuchACardDeckIsWellShuffled.pdf</td>\n",
       "      <td>The Thesis Consider The Mixing Of Few  3 4  ...</td>\n",
       "      <td>Benjamin Isac Fargion</td>\n",
       "      <td>cs.DM</td>\n",
       "      <td>Italian Thesis In Engeenering Computer, 26 Feb...</td>\n",
       "      <td>http://arxiv.org/pdf/1407.6950v1.pdf</td>\n",
       "      <td>./files/How,whenAndHowMuchACardDeckIsWellShuff...</td>\n",
       "    </tr>\n",
       "    <tr>\n",
       "      <td>1</td>\n",
       "      <td>http://arxiv.org/abs/0907.0618v1</td>\n",
       "      <td>2009-07-03T12:35:10Z</td>\n",
       "      <td>2009-07-03T12:35:10Z</td>\n",
       "      <td>QuantumIsometryGroups.pdf</td>\n",
       "      <td>This Thesis Contains The Formulation And Com...</td>\n",
       "      <td>Jyotishman Bhowmick</td>\n",
       "      <td>math.OA</td>\n",
       "      <td>Thesis</td>\n",
       "      <td>http://arxiv.org/pdf/0907.0618v1.pdf</td>\n",
       "      <td>./files/QuantumIsometryGroups.pdf</td>\n",
       "    </tr>\n",
       "    <tr>\n",
       "      <td>2</td>\n",
       "      <td>http://arxiv.org/abs/1806.09601v2</td>\n",
       "      <td>2018-07-14T17:06:27Z</td>\n",
       "      <td>2018-06-25T17:55:59Z</td>\n",
       "      <td>ComputationAndBoundingOfFolkmanNumbers.pdf</td>\n",
       "      <td>Phd Thesis Under The Supervision Of Professo...</td>\n",
       "      <td>Aleksandar Bikov</td>\n",
       "      <td>math.CO</td>\n",
       "      <td>PhD Thesis</td>\n",
       "      <td>http://arxiv.org/pdf/1806.09601v2.pdf</td>\n",
       "      <td>./files/ComputationAndBoundingOfFolkmanNumbers...</td>\n",
       "    </tr>\n",
       "    <tr>\n",
       "      <td>3</td>\n",
       "      <td>http://arxiv.org/abs/1905.03014v1</td>\n",
       "      <td>2019-05-08T11:47:34Z</td>\n",
       "      <td>2019-05-08T11:47:34Z</td>\n",
       "      <td>OnChurch'sThesisInCubicalAssemblies.pdf</td>\n",
       "      <td>We Show That Church's Thesis, The Axiom Stat...</td>\n",
       "      <td>Andrew Swan, Taichi Uemura,</td>\n",
       "      <td>math.LO</td>\n",
       "      <td>0</td>\n",
       "      <td>http://arxiv.org/pdf/1905.03014v1.pdf</td>\n",
       "      <td>./files/OnChurch'sThesisInCubicalAssemblies.pdf</td>\n",
       "    </tr>\n",
       "    <tr>\n",
       "      <td>4</td>\n",
       "      <td>http://arxiv.org/abs/1901.04911v1</td>\n",
       "      <td>2019-01-15T16:24:07Z</td>\n",
       "      <td>2019-01-15T16:24:07Z</td>\n",
       "      <td>UnconstrainedChurchTuringThesisCannotPossiblyB...</td>\n",
       "      <td>The Church Turing Thesis Asserts That If A P...</td>\n",
       "      <td>Yuri Gurevich</td>\n",
       "      <td>cs.LO</td>\n",
       "      <td>0</td>\n",
       "      <td>http://arxiv.org/pdf/1901.04911v1.pdf</td>\n",
       "      <td>./files/UnconstrainedChurchTuringThesisCannotP...</td>\n",
       "    </tr>\n",
       "    <tr>\n",
       "      <td>5</td>\n",
       "      <td>http://arxiv.org/abs/1201.2892v1</td>\n",
       "      <td>2012-01-13T16:34:57Z</td>\n",
       "      <td>2012-01-13T16:34:57Z</td>\n",
       "      <td>AlgebraicRelaxationsAndHardnessResultsInPolyno...</td>\n",
       "      <td>This Thesis Settles A Number Of Questions Re...</td>\n",
       "      <td>Amir Ali Ahmadi</td>\n",
       "      <td>math.OC</td>\n",
       "      <td>PhD Thesis, MIT, September, 2011</td>\n",
       "      <td>http://arxiv.org/pdf/1201.2892v1.pdf</td>\n",
       "      <td>./files/AlgebraicRelaxationsAndHardnessResults...</td>\n",
       "    </tr>\n",
       "    <tr>\n",
       "      <td>6</td>\n",
       "      <td>http://arxiv.org/abs/1703.08041v1</td>\n",
       "      <td>2017-03-23T12:32:10Z</td>\n",
       "      <td>2017-03-23T12:32:10Z</td>\n",
       "      <td>ResolvingTheComplexityOfSomeFundamentalProblem...</td>\n",
       "      <td>This Thesis Is In The Area Called Computatio...</td>\n",
       "      <td>Palash Dey</td>\n",
       "      <td>cs.DS</td>\n",
       "      <td>Ph.D. Thesis</td>\n",
       "      <td>http://arxiv.org/pdf/1703.08041v1.pdf</td>\n",
       "      <td>./files/ResolvingTheComplexityOfSomeFundamenta...</td>\n",
       "    </tr>\n",
       "    <tr>\n",
       "      <td>7</td>\n",
       "      <td>http://arxiv.org/abs/math/0507044v1</td>\n",
       "      <td>2005-07-03T19:50:04Z</td>\n",
       "      <td>2005-07-03T19:50:04Z</td>\n",
       "      <td>PaIsInstantiationallyComplete,ButAlgorithmical...</td>\n",
       "      <td>We Define Instantiational And Algorithmic Co...</td>\n",
       "      <td>Bhupinder Singh Anand</td>\n",
       "      <td>math.GM</td>\n",
       "      <td>18 pages; an HTML version is available at\\n  h...</td>\n",
       "      <td>http://arxiv.org/pdf/math/0507044v1.pdf</td>\n",
       "      <td>./files/PaIsInstantiationallyComplete,ButAlgor...</td>\n",
       "    </tr>\n",
       "    <tr>\n",
       "      <td>8</td>\n",
       "      <td>http://arxiv.org/abs/0907.3132v1</td>\n",
       "      <td>2009-07-17T07:57:56Z</td>\n",
       "      <td>2009-07-17T07:57:56Z</td>\n",
       "      <td>NumericalModelingOfFluidFlowThroughPorousMedia...</td>\n",
       "      <td>The Aim Of The Thesis Is To Present And Anal...</td>\n",
       "      <td>Maciej Matyka</td>\n",
       "      <td>physics.comp-ph</td>\n",
       "      <td>80 pages, PhD Thesis, in Polish</td>\n",
       "      <td>http://arxiv.org/pdf/0907.3132v1.pdf</td>\n",
       "      <td>./files/NumericalModelingOfFluidFlowThroughPor...</td>\n",
       "    </tr>\n",
       "    <tr>\n",
       "      <td>9</td>\n",
       "      <td>http://arxiv.org/abs/hep-th/0205060v1</td>\n",
       "      <td>2002-05-07T11:45:29Z</td>\n",
       "      <td>2002-05-07T11:45:29Z</td>\n",
       "      <td>ThreebranesInFTheory.pdf</td>\n",
       "      <td>This Is A Phd Thesis Submitted To The Univer...</td>\n",
       "      <td>Alastair Paulin-Campbell</td>\n",
       "      <td>hep-th</td>\n",
       "      <td>Phd. Thesis, accepted by the University of the...</td>\n",
       "      <td>http://arxiv.org/pdf/hep-th/0205060v1.pdf</td>\n",
       "      <td>./files/ThreebranesInFTheory.pdf</td>\n",
       "    </tr>\n",
       "  </tbody>\n",
       "</table>\n",
       "</div>"
      ],
      "text/plain": [
       "                                      id           updatedDate  \\\n",
       "0       http://arxiv.org/abs/1407.6950v1  2014-07-24T16:56:39Z   \n",
       "1       http://arxiv.org/abs/0907.0618v1  2009-07-03T12:35:10Z   \n",
       "2      http://arxiv.org/abs/1806.09601v2  2018-07-14T17:06:27Z   \n",
       "3      http://arxiv.org/abs/1905.03014v1  2019-05-08T11:47:34Z   \n",
       "4      http://arxiv.org/abs/1901.04911v1  2019-01-15T16:24:07Z   \n",
       "5       http://arxiv.org/abs/1201.2892v1  2012-01-13T16:34:57Z   \n",
       "6      http://arxiv.org/abs/1703.08041v1  2017-03-23T12:32:10Z   \n",
       "7    http://arxiv.org/abs/math/0507044v1  2005-07-03T19:50:04Z   \n",
       "8       http://arxiv.org/abs/0907.3132v1  2009-07-17T07:57:56Z   \n",
       "9  http://arxiv.org/abs/hep-th/0205060v1  2002-05-07T11:45:29Z   \n",
       "\n",
       "          publishedDate                                              title  \\\n",
       "0  2014-07-24T16:56:39Z      How,whenAndHowMuchACardDeckIsWellShuffled.pdf   \n",
       "1  2009-07-03T12:35:10Z                          QuantumIsometryGroups.pdf   \n",
       "2  2018-06-25T17:55:59Z         ComputationAndBoundingOfFolkmanNumbers.pdf   \n",
       "3  2019-05-08T11:47:34Z            OnChurch'sThesisInCubicalAssemblies.pdf   \n",
       "4  2019-01-15T16:24:07Z  UnconstrainedChurchTuringThesisCannotPossiblyB...   \n",
       "5  2012-01-13T16:34:57Z  AlgebraicRelaxationsAndHardnessResultsInPolyno...   \n",
       "6  2017-03-23T12:32:10Z  ResolvingTheComplexityOfSomeFundamentalProblem...   \n",
       "7  2005-07-03T19:50:04Z  PaIsInstantiationallyComplete,ButAlgorithmical...   \n",
       "8  2009-07-17T07:57:56Z  NumericalModelingOfFluidFlowThroughPorousMedia...   \n",
       "9  2002-05-07T11:45:29Z                           ThreebranesInFTheory.pdf   \n",
       "\n",
       "                                             summary  \\\n",
       "0    The Thesis Consider The Mixing Of Few  3 4  ...   \n",
       "1    This Thesis Contains The Formulation And Com...   \n",
       "2    Phd Thesis Under The Supervision Of Professo...   \n",
       "3    We Show That Church's Thesis, The Axiom Stat...   \n",
       "4    The Church Turing Thesis Asserts That If A P...   \n",
       "5    This Thesis Settles A Number Of Questions Re...   \n",
       "6    This Thesis Is In The Area Called Computatio...   \n",
       "7    We Define Instantiational And Algorithmic Co...   \n",
       "8    The Aim Of The Thesis Is To Present And Anal...   \n",
       "9    This Is A Phd Thesis Submitted To The Univer...   \n",
       "\n",
       "                        authors         category  \\\n",
       "0         Benjamin Isac Fargion            cs.DM   \n",
       "1           Jyotishman Bhowmick          math.OA   \n",
       "2              Aleksandar Bikov          math.CO   \n",
       "3  Andrew Swan, Taichi Uemura,           math.LO   \n",
       "4                 Yuri Gurevich            cs.LO   \n",
       "5               Amir Ali Ahmadi          math.OC   \n",
       "6                    Palash Dey            cs.DS   \n",
       "7         Bhupinder Singh Anand          math.GM   \n",
       "8                 Maciej Matyka  physics.comp-ph   \n",
       "9      Alastair Paulin-Campbell           hep-th   \n",
       "\n",
       "                                            metaData  \\\n",
       "0  Italian Thesis In Engeenering Computer, 26 Feb...   \n",
       "1                                             Thesis   \n",
       "2                                         PhD Thesis   \n",
       "3                                                  0   \n",
       "4                                                  0   \n",
       "5                   PhD Thesis, MIT, September, 2011   \n",
       "6                                       Ph.D. Thesis   \n",
       "7  18 pages; an HTML version is available at\\n  h...   \n",
       "8                    80 pages, PhD Thesis, in Polish   \n",
       "9  Phd. Thesis, accepted by the University of the...   \n",
       "\n",
       "                                downloadLink  \\\n",
       "0       http://arxiv.org/pdf/1407.6950v1.pdf   \n",
       "1       http://arxiv.org/pdf/0907.0618v1.pdf   \n",
       "2      http://arxiv.org/pdf/1806.09601v2.pdf   \n",
       "3      http://arxiv.org/pdf/1905.03014v1.pdf   \n",
       "4      http://arxiv.org/pdf/1901.04911v1.pdf   \n",
       "5       http://arxiv.org/pdf/1201.2892v1.pdf   \n",
       "6      http://arxiv.org/pdf/1703.08041v1.pdf   \n",
       "7    http://arxiv.org/pdf/math/0507044v1.pdf   \n",
       "8       http://arxiv.org/pdf/0907.3132v1.pdf   \n",
       "9  http://arxiv.org/pdf/hep-th/0205060v1.pdf   \n",
       "\n",
       "                                            filePath  \n",
       "0  ./files/How,whenAndHowMuchACardDeckIsWellShuff...  \n",
       "1                  ./files/QuantumIsometryGroups.pdf  \n",
       "2  ./files/ComputationAndBoundingOfFolkmanNumbers...  \n",
       "3    ./files/OnChurch'sThesisInCubicalAssemblies.pdf  \n",
       "4  ./files/UnconstrainedChurchTuringThesisCannotP...  \n",
       "5  ./files/AlgebraicRelaxationsAndHardnessResults...  \n",
       "6  ./files/ResolvingTheComplexityOfSomeFundamenta...  \n",
       "7  ./files/PaIsInstantiationallyComplete,ButAlgor...  \n",
       "8  ./files/NumericalModelingOfFluidFlowThroughPor...  \n",
       "9                   ./files/ThreebranesInFTheory.pdf  "
      ]
     },
     "execution_count": 43,
     "metadata": {},
     "output_type": "execute_result"
    }
   ],
   "source": [
    "df = pd.read_csv(__PATH__,sep=\";\",header=0)\n",
    "df.head(10)"
   ]
  },
  {
   "cell_type": "markdown",
   "metadata": {
    "colab_type": "text",
    "id": "XG1xtU4xC3rK"
   },
   "source": [
    "#### Preprocessing the title to list of tokens"
   ]
  },
  {
   "cell_type": "code",
   "execution_count": 44,
   "metadata": {
    "colab": {},
    "colab_type": "code",
    "id": "iRgalGvEC3rL"
   },
   "outputs": [],
   "source": [
    "titles = list(df['title'].apply(\n",
    "    lambda t : \n",
    "        tuple(\n",
    "            filter(lambda e:not e in stopwords.words('english'),\n",
    "                map(lambda e:e.lower(),\n",
    "                       re.findall('([A-Z]{1}[a-z]+)',t.replace('.pdf','')))\n",
    "                )\n",
    "            )\n",
    "        )\n",
    "    )"
   ]
  },
  {
   "cell_type": "code",
   "execution_count": 45,
   "metadata": {
    "colab": {},
    "colab_type": "code",
    "id": "ojN89e-cC3rN"
   },
   "outputs": [],
   "source": [
    "res = {}\n",
    "for title in titles:\n",
    "    synsets = {}\n",
    "    for word in title:\n",
    "        synsets[word]=[synset for synset in wn.synsets(word)]\n",
    "    res[title] = synsets"
   ]
  },
  {
   "cell_type": "code",
   "execution_count": 46,
   "metadata": {},
   "outputs": [],
   "source": [
    "def get_hyper1(data):\n",
    "    hypernyms1 = []\n",
    "    synsets_ = wn.synsets(data) \n",
    "    for s in range(len(synsets_)):\n",
    "        hypernyms1.extend(wn.synsets(data)[s].hypernyms()) \n",
    "    hyper = set(hypernyms1)\n",
    "    return hyper"
   ]
  },
  {
   "cell_type": "code",
   "execution_count": 47,
   "metadata": {},
   "outputs": [],
   "source": [
    "def get_hyper2(data):\n",
    "    hyper1 = get_hyper1(data)\n",
    "    hypernyms2 = []\n",
    "    for hypernym1 in hyper1:\n",
    "        hypernyms2.extend(hypernym1.hypernyms())\n",
    "    hyper = set(hypernyms2)\n",
    "    return hyper"
   ]
  },
  {
   "cell_type": "code",
   "execution_count": 56,
   "metadata": {},
   "outputs": [],
   "source": [
    "def f_score(y_true, y_pred):\n",
    "    inter = y_true.intersection(y_pred)\n",
    "    cross_size = len(y_true & y_pred)\n",
    "    if cross_size == 0: \n",
    "        return inter, 0\n",
    "    else:\n",
    "        p = 1. * cross_size / len(y_pred)\n",
    "        r = 1. * cross_size / len(y_true)\n",
    "        return inter, 2 * p * r / (p + r)"
   ]
  },
  {
   "cell_type": "code",
   "execution_count": 66,
   "metadata": {
    "colab": {},
    "colab_type": "code",
    "id": "YsBev1EcC3rP"
   },
   "outputs": [],
   "source": [
    "def distance(a,b):\n",
    "    ### Put your code here\n",
    "    ### В переменной synsets помимо нормализованного заголовка хранятся синсеты для каждого токена из заголовка.\n",
    "    ### у синсетов есть гиперонимы про то как из брать здесь\n",
    "    ### Если у токенов заголовков есть общие гиперонимы тогда заголовки связаны несмотря на то что слова разные\n",
    "    a = set(a)\n",
    "    b = set(b) \n",
    "    inter, f1_score = f_score(a,b)\n",
    "    \n",
    "    a = a - inter \n",
    "    b = b - inter \n",
    "    \n",
    "    if len(a) == 0 or len(b) == 0: \n",
    "        result = 1 - f1_score\n",
    "    else: \n",
    "        penalty = 0\n",
    "        # first layer hypernyms\n",
    "        for word_a in a:\n",
    "            for word_b in b:\n",
    "                var_hyp1 = get_hyper1(word_a)\n",
    "                var_hyp2 = get_hyper1(word_b)\n",
    "                num_hyper1 = len(var_hyp1.intersection(var_hyp2))    \n",
    "                if (num_hyper1 > 0):\n",
    "                    penalty = penalty + 0.6\n",
    "                    # in case not in first layer of hypernyms\n",
    "                if (num_hyper1 == 0):\n",
    "                    var_hyp3 = get_hyper2(word_a)\n",
    "                    var_hyp4 = get_hyper2(word_b)\n",
    "                    num_hyper2 = len(var_hyp3.intersection(var_hyp4)) \n",
    "                    + len(var_hyp3.intersection(var_hyp2)) \n",
    "                    + len(var_hyp1.intersection(var_hyp4)) \n",
    "                    if (num_hyper2 > 0):\n",
    "                        penalty = penalty + 0.4\n",
    "        \n",
    "        if penalty > 0:\n",
    "            prec_penalty = penalty/len(a)\n",
    "            recall_penalty = penalty/len(b)\n",
    "            fscore_penalty = 2 * (prec_penalty * recall_penalty) / (prec_penalty + recall_penalty)\n",
    "        else:\n",
    "            fscore_penalty = 0\n",
    "                                                    \n",
    "        result = 1 - (2 * f1_score + fscore_penalty)/3   \n",
    "    \n",
    "    return result"
   ]
  },
  {
   "cell_type": "code",
   "execution_count": 67,
   "metadata": {},
   "outputs": [],
   "source": [
    "buff = list(res.items())\n",
    "dist = np.zeros((len(buff),len(buff)))\n",
    "for lli,ll in enumerate(buff):\n",
    "    for rri,rr in enumerate(buff):\n",
    "        dist[lli,rri]=distance(ll[0],rr[0])"
   ]
  },
  {
   "cell_type": "markdown",
   "metadata": {
    "colab_type": "text",
    "id": "sVW9NVFmC3rR"
   },
   "source": [
    "#### Top ten closest articles with fuzzy metrics of titles"
   ]
  },
  {
   "cell_type": "code",
   "execution_count": 70,
   "metadata": {
    "colab": {
     "referenced_widgets": [
      "b06d56940d7a4b33b49ac122f8055d9d"
     ]
    },
    "colab_type": "code",
    "id": "PJfKkP_sC3rS",
    "outputId": "e3ddbefa-ea40-4464-f87b-45690e241fce"
   },
   "outputs": [
    {
     "data": {
      "application/vnd.jupyter.widget-view+json": {
       "model_id": "03accee8356c4eff87091beb9f9acb57",
       "version_major": 2,
       "version_minor": 0
      },
      "text/plain": [
       "interactive(children=(IntSlider(value=0, description='ind', max=995), Output()), _dom_classes=('widget-interac…"
      ]
     },
     "metadata": {},
     "output_type": "display_data"
    }
   ],
   "source": [
    "@interact(ind=(0,len(buff)-1,1))\n",
    "def h(ind=0):\n",
    "    pp = pprint.PrettyPrinter(indent=4)\n",
    "    print(' '.join(buff[ind][0]))\n",
    "    pp.pprint([buff[i][0] for i in dist[ind][:].argsort()[1:11]])\n"
   ]
  },
  {
   "cell_type": "code",
   "execution_count": 71,
   "metadata": {
    "colab": {
     "referenced_widgets": [
      "fd9b9f3aff4a4b518fb0345303c63386"
     ]
    },
    "colab_type": "code",
    "id": "hQ3fW1fSC3rU",
    "outputId": "af83791b-ef9e-4c5a-bf6a-a1be03881661"
   },
   "outputs": [
    {
     "data": {
      "application/vnd.jupyter.widget-view+json": {
       "model_id": "dfa1cbb2916946a19cb03339809f62ac",
       "version_major": 2,
       "version_minor": 0
      },
      "text/plain": [
       "interactive(children=(IntSlider(value=0, description='ind', max=995), Output()), _dom_classes=('widget-interac…"
      ]
     },
     "metadata": {},
     "output_type": "display_data"
    }
   ],
   "source": [
    "@interact(ind=(0,len(buff)-1,1))\n",
    "def hypernyms(ind=0):\n",
    "    pp = pprint.PrettyPrinter(indent=4)\n",
    "    print(' '.join(buff[ind][0]))\n",
    "    pp.pprint(buff[ind][1])"
   ]
  },
  {
   "cell_type": "code",
   "execution_count": null,
   "metadata": {},
   "outputs": [],
   "source": []
  }
 ],
 "metadata": {
  "colab": {
   "name": "HypernymTitles.ipynb",
   "provenance": []
  },
  "kernelspec": {
   "display_name": "Python 3",
   "language": "python",
   "name": "python3"
  },
  "language_info": {
   "codemirror_mode": {
    "name": "ipython",
    "version": 3
   },
   "file_extension": ".py",
   "mimetype": "text/x-python",
   "name": "python",
   "nbconvert_exporter": "python",
   "pygments_lexer": "ipython3",
   "version": "3.7.4"
  }
 },
 "nbformat": 4,
 "nbformat_minor": 1
}
